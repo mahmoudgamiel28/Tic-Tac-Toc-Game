{
  "nbformat": 4,
  "nbformat_minor": 0,
  "metadata": {
    "colab": {
      "name": "face recognition.ipynb",
      "provenance": [],
      "authorship_tag": "ABX9TyMZ2B0SLH0YCxLWOTsCZhIL",
      "include_colab_link": true
    },
    "kernelspec": {
      "name": "python3",
      "display_name": "Python 3"
    },
    "accelerator": "TPU"
  },
  "cells": [
    {
      "cell_type": "markdown",
      "metadata": {
        "id": "view-in-github",
        "colab_type": "text"
      },
      "source": [
        "<a href=\"https://colab.research.google.com/github/mahmoudgamiel28/Tic-Tac-Toc-Game/blob/master/face_recognition.ipynb\" target=\"_parent\"><img src=\"https://colab.research.google.com/assets/colab-badge.svg\" alt=\"Open In Colab\"/></a>"
      ]
    },
    {
      "cell_type": "markdown",
      "metadata": {
        "id": "IEhPiIBICUSG",
        "colab_type": "text"
      },
      "source": [
        "# **Data for all**"
      ]
    },
    {
      "cell_type": "code",
      "metadata": {
        "id": "m0Ubt3GZBiW6",
        "colab_type": "code",
        "colab": {}
      },
      "source": [
        "from google.colab import drive\n",
        "drive.mount('/content/drive/')\n",
        "import os \n",
        "os.chdir('drive/My Drive')"
      ],
      "execution_count": 0,
      "outputs": []
    },
    {
      "cell_type": "markdown",
      "metadata": {
        "id": "sa9L-C1bCgEP",
        "colab_type": "text"
      },
      "source": [
        "## Import important libraries "
      ]
    },
    {
      "cell_type": "code",
      "metadata": {
        "id": "dvGj5cZ5B95p",
        "colab_type": "code",
        "colab": {}
      },
      "source": [
        "import numpy as np\n",
        "import keras\n",
        "from keras.models import Sequential\n",
        "from keras.layers import Dense ,Conv2D ,Flatten, MaxPool2D, Dropout\n",
        "from keras.preprocessing.image import ImageDataGenerator\n",
        "import cv2\n",
        "import numpy\n",
        "from keras.models import load_model\n",
        "from keras.callbacks import EarlyStopping\n",
        "import matplotlib.pyplot as plt\n"
      ],
      "execution_count": 0,
      "outputs": []
    },
    {
      "cell_type": "markdown",
      "metadata": {
        "id": "pOcWclIqCoY9",
        "colab_type": "text"
      },
      "source": [
        "## Data importing & augmentation "
      ]
    },
    {
      "cell_type": "code",
      "metadata": {
        "id": "Fyu-bFulB-u0",
        "colab_type": "code",
        "colab": {}
      },
      "source": [
        "train_data_path = '.Data/train'\n",
        "test_data_path  = '.Data/test'\n",
        "\n",
        "train_datagen = ImageDataGenerator(\n",
        "        rescale=1./255,\n",
        "        shear_range=0.2,\n",
        "        zoom_range=0.2,\n",
        "        horizontal_flip=True)\n",
        "\n",
        "test_datagen = ImageDataGenerator(rescale=1./255)\n",
        "\n",
        "training_set = train_datagen.flow_from_directory(\n",
        "        train_data_path,\n",
        "        target_size=(400, 400),\n",
        "        batch_size=32,\n",
        "        class_mode='binary')\n",
        "\n",
        "test_set = test_datagen.flow_from_directory(\n",
        "        test_data_path,\n",
        "        target_size=(400, 400),\n",
        "        batch_size=32,\n",
        "        class_mode='binary')"
      ],
      "execution_count": 0,
      "outputs": []
    },
    {
      "cell_type": "markdown",
      "metadata": {
        "id": "SbZzhjpfC15d",
        "colab_type": "text"
      },
      "source": [
        "## Build a CNN model & Compile it"
      ]
    },
    {
      "cell_type": "code",
      "metadata": {
        "id": "H6DFnOC-CFW6",
        "colab_type": "code",
        "colab": {}
      },
      "source": [
        "model = Sequential([\n",
        "                    Conv2D(64,kernel_size=3,input_shape=(400,400,3)),\n",
        "                    Conv2D(64,kernel_size=3),\n",
        "                    Conv2D(64,kernel_size=3),\n",
        "                    MaxPool2D(2),\n",
        "                    MaxPool2D(2),\n",
        "                    Flatten(),\n",
        "                    Dense(256,activation='relu'),\n",
        "                    Dense(128,activation='relu'),\n",
        "                    Dense(64,activation='relu'),\n",
        "                    Dense(1,activation='sigmoid')\n",
        "])\n",
        "model.compile(optimizer='adam',loss='binary_crossentropy',metrics=['accuracy'])\n",
        "early_stopping = EarlyStopping(monitor='val_loss', patience=3)"
      ],
      "execution_count": 0,
      "outputs": []
    },
    {
      "cell_type": "markdown",
      "metadata": {
        "id": "FMyUhPhoC4v3",
        "colab_type": "text"
      },
      "source": [
        "## Traning the model"
      ]
    },
    {
      "cell_type": "code",
      "metadata": {
        "id": "ijoe4T5uCIxN",
        "colab_type": "code",
        "colab": {}
      },
      "source": [
        "h = model.fit_generator(training_set,validation_data=test_set,epochs=2,steps_per_epoch=len(training_set),\n",
        "                        callbacks = [early_stopping])"
      ],
      "execution_count": 0,
      "outputs": []
    },
    {
      "cell_type": "code",
      "metadata": {
        "id": "VzRUqkDfF0z8",
        "colab_type": "code",
        "colab": {}
      },
      "source": [
        "model.save('facerecognation2_model.h5')"
      ],
      "execution_count": 0,
      "outputs": []
    },
    {
      "cell_type": "code",
      "metadata": {
        "id": "mok8y-ADF1kc",
        "colab_type": "code",
        "colab": {
          "base_uri": "https://localhost:8080/",
          "height": 90
        },
        "outputId": "9c85a293-6637-413a-c81e-2c11723774cd"
      },
      "source": [
        "h.history"
      ],
      "execution_count": 7,
      "outputs": [
        {
          "output_type": "execute_result",
          "data": {
            "text/plain": [
              "{'accuracy': [0.826, 1.0],\n",
              " 'loss': [5.514531692268725, 9.271217126411102e-06],\n",
              " 'val_accuracy': [1.0, 1.0],\n",
              " 'val_loss': [1.8040055920209852e-06, 9.64489913712896e-07]}"
            ]
          },
          "metadata": {
            "tags": []
          },
          "execution_count": 7
        }
      ]
    },
    {
      "cell_type": "code",
      "metadata": {
        "id": "esZdJuoDGQzH",
        "colab_type": "code",
        "colab": {
          "base_uri": "https://localhost:8080/",
          "height": 265
        },
        "outputId": "a8841597-c378-4ccd-ed98-e44f9882cbc4"
      },
      "source": [
        "fig, ax = plt.subplots(1,2)\n",
        "ax[0].plot(h.history['loss'], label='train loss')\n",
        "ax[0].plot(h.history['val_loss'], label='val loss')\n",
        "ax[0].legend()\n",
        "ax[1].plot(h.history['accuracy'], label='train accuracy')\n",
        "ax[1].plot(h.history['val_accuracy'], label='val_accuracy')\n",
        "ax[1].legend()\n",
        "plt.show()"
      ],
      "execution_count": 8,
      "outputs": [
        {
          "output_type": "display_data",
          "data": {
            "image/png": "[encoded data removed]",
            "text/plain": [
              "<Figure size 432x288 with 2 Axes>"
            ]
          },
          "metadata": {
            "tags": [],
            "needs_background": "light"
          }
        }
      ]
    },
    {
      "cell_type": "code",
      "metadata": {
        "id": "XSM38hTDjrwI",
        "colab_type": "code",
        "colab": {}
      },
      "source": [
        "model = load_model('facerecognation2_model.h5')\n"
      ],
      "execution_count": 0,
      "outputs": []
    },
    {
      "cell_type": "code",
      "metadata": {
        "id": "15kwdvf0EYQl",
        "colab_type": "code",
        "colab": {}
      },
      "source": [
        "image = cv2.imread('18.jpg')\n",
        "image = cv2.resize(image,(400,400))\n",
        "image=np.reshape(image,(1,400,400,3))\n",
        "y_pred = model.predict(image)"
      ],
      "execution_count": 0,
      "outputs": []
    },
    {
      "cell_type": "code",
      "metadata": {
        "id": "Kg4d8Y8fFBuH",
        "colab_type": "code",
        "colab": {}
      },
      "source": [
        "image = cv2.imread('23.jpg')\n",
        "image = cv2.resize(image,(400,400))\n",
        "image=np.reshape(image,(1,400,400,3))\n",
        "y_pred_1 = model.predict(image)"
      ],
      "execution_count": 0,
      "outputs": []
    },
    {
      "cell_type": "code",
      "metadata": {
        "id": "qrExUCNTkFdM",
        "colab_type": "code",
        "colab": {
          "base_uri": "https://localhost:8080/",
          "height": 54
        },
        "outputId": "fe655e2d-4dbe-4498-b7af-68c8e6ce1b8e"
      },
      "source": [
        "print(y_pred)\n",
        "print(y_pred_1)"
      ],
      "execution_count": 14,
      "outputs": [
        {
          "output_type": "stream",
          "text": [
            "[[0.]]\n",
            "[[0.]]\n"
          ],
          "name": "stdout"
        }
      ]
    },
    {
      "cell_type": "code",
      "metadata": {
        "id": "TGjbWBzkkLO4",
        "colab_type": "code",
        "colab": {}
      },
      "source": [
        ""
      ],
      "execution_count": 0,
      "outputs": []
    }
  ]
}