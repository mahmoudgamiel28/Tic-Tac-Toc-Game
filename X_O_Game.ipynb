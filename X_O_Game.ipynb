{
  "nbformat": 4,
  "nbformat_minor": 0,
  "metadata": {
    "colab": {
      "name": " X_O_Game.ipynb",
      "provenance": [],
      "authorship_tag": "ABX9TyMawtlLj8m75sMp1YbD8riP",
      "include_colab_link": true
    },
    "kernelspec": {
      "name": "python3",
      "display_name": "Python 3"
    }
  },
  "cells": [
    {
      "cell_type": "markdown",
      "metadata": {
        "id": "view-in-github",
        "colab_type": "text"
      },
      "source": [
        "<a href=\"https://colab.research.google.com/github/mahmoudgamiel28/Tic-Tac-Toc-Game/blob/master/X_O_Game.ipynb\" target=\"_parent\"><img src=\"https://colab.research.google.com/assets/colab-badge.svg\" alt=\"Open In Colab\"/></a>"
      ]
    },
    {
      "cell_type": "code",
      "metadata": {
        "id": "0HBxKVJvU57Q",
        "colab_type": "code",
        "colab": {}
      },
      "source": [
        "#let's import numpy to use it to creat matrix (3x3) wich will be the board for Game  \n",
        "import numpy as np"
      ],
      "execution_count": 0,
      "outputs": []
    },
    {
      "cell_type": "code",
      "metadata": {
        "id": "UXbUQI5a6i14",
        "colab_type": "code",
        "outputId": "25518d7e-62f6-4189-d3f5-0a6357f23276",
        "colab": {
          "base_uri": "https://localhost:8080/",
          "height": 68
        }
      },
      "source": [
        "#Creating the board (matrix (3x3)) with full None Value\n",
        "border = np.full((3,3),None) \n",
        "print(border)"
      ],
      "execution_count": 26,
      "outputs": [
        {
          "output_type": "stream",
          "text": [
            "[[None None None]\n",
            " [None None None]\n",
            " [None None None]]\n"
          ],
          "name": "stdout"
        }
      ]
    },
    {
      "cell_type": "code",
      "metadata": {
        "id": "XPP7PMQHVYQc",
        "colab_type": "code",
        "colab": {}
      },
      "source": [
        "turnes  =['player 1','player 2','player 1','player 2','player 1','player 2','player 1','player 2','player 1']\n",
        "# x is (the turn factor) will increase \n",
        "# when x = 9 The Game will End \n",
        "x = 1"
      ],
      "execution_count": 0,
      "outputs": []
    },
    {
      "cell_type": "code",
      "metadata": {
        "id": "wllV-j-1kf8P",
        "colab_type": "code",
        "colab": {}
      },
      "source": [
        "def check_winers () :\n",
        "  ''' this is function checks if One of the players is win or not \n",
        "  by checking the eight statuses for winning \n",
        "  by One of the players is win the turn factor (x) will equal nine to End the Game'''\n",
        "  global x\n",
        "  if border[0][0]==border[0][1] and border[0][1]==border[0][2] and border[0][1]!= None:\n",
        "    print(\"you are winner\")\n",
        "    x=9\n",
        "  if border[1][0]==border[1][1] and border[1][1]==border[1][2] and border[1][1]!= None:\n",
        "    print(\"you are winner\")\n",
        "    x=9\n",
        "  if border[2][0]==border[2][1] and border[2][1]==border[2][2] and border[2][1]!= None:\n",
        "    print(\"you are winner\")\n",
        "    x=9\n",
        "  if border[0][0]==border[1][0] and border[1][0]==border[2][0] and border[1][0]!= None:  \n",
        "    print(\"you are winner\")\n",
        "    x=9\n",
        "  if border[0][1]==border[1][1] and border[1][1]==border[2][1] and border[1][1]!= None:\n",
        "    print(\"you are winner\")\n",
        "    x=9\n",
        "  if border[0][2]==border[1][2] and border[1][2]==border[2][2] and border[1][2]!= None:\n",
        "    print(\"you are winner\")\n",
        "    x=9\n",
        "  if border[0][0]==border[1][1] and border[1][1]==border[2][2] and border[1][1]!= None:\n",
        "    print(\"you are winner\")  \n",
        "    x=9\n",
        "  if border[0][2]==border[1][1] and border[1][1]==border[2][0] and border[1][1]!= None:\n",
        "    print(\"you are winner\")\n",
        "    x=9"
      ],
      "execution_count": 0,
      "outputs": []
    },
    {
      "cell_type": "code",
      "metadata": {
        "id": "30kAiAE0WKkf",
        "colab_type": "code",
        "colab": {}
      },
      "source": [
        "def TAKE_POSITION ():  \n",
        "  ''' this is function take the position from the player (raw and column )\n",
        "  the cheks if position is in the board or not (row from 1 to 3 and column from 1 to 3)'''\n",
        "  global r ,c\n",
        "  while 1:\n",
        "    r = (int(input(turn+' '+'input your row from 1 to 3 \\n'))-1)\n",
        "    if 0<=r<3 :\n",
        "      break\n",
        "    else :\n",
        "      print(turn+' '+'input your the index of row is not in from 1 to 3')  \n",
        "  while 1:\n",
        "    c= (int(input(turn+' '+'input your ccolumn from 1 to 3 \\n'))-1)\n",
        "    if 0<=c<3 :\n",
        "      break\n",
        "    else :\n",
        "      print(turn+' '+'input your the index of column is not in from 1 to 3')\n",
        "    return r ,c  \n"
      ],
      "execution_count": 0,
      "outputs": []
    },
    {
      "cell_type": "code",
      "metadata": {
        "id": "fSY8P6kOcf5X",
        "colab_type": "code",
        "colab": {}
      },
      "source": [
        "def CHECK_POSITION ():\n",
        "  ''' this is function checks if  the position  from the player is empty '''\n",
        "  global r ,c \n",
        "  while 1 :  \n",
        "    TAKE_POSITION ()\n",
        "    if border[r][c]==None :\n",
        "      break\n",
        "    else : \n",
        "      print('plese choose anther position cause this position is full')"
      ],
      "execution_count": 0,
      "outputs": []
    },
    {
      "cell_type": "code",
      "metadata": {
        "id": "yB4C9tt8fZbE",
        "colab_type": "code",
        "colab": {}
      },
      "source": [
        "def TAKE_ِAND_CHECK_INPUT ():\n",
        "  ''' this is function cheks the input ,the input must be X or x or O or o not else  '''\n",
        "  global r,c \n",
        "  while 1 :    \n",
        "    b=input('X OR O \\n')\n",
        "    b=b.upper()\n",
        "    if b=='X' or b=='O' :\n",
        "      break  "
      ],
      "execution_count": 0,
      "outputs": []
    },
    {
      "cell_type": "markdown",
      "metadata": {
        "id": "2MUKEA_Moz1_",
        "colab_type": "text"
      },
      "source": [
        "# in next cell We merge The previous functions in one for loop \n",
        "this for loop stop if one from players win or happend Draw \n",
        "\n",
        "and every turn the bord is printed and check if in from the player is win or not"
      ]
    },
    {
      "cell_type": "code",
      "metadata": {
        "id": "MQISyZR4m56C",
        "colab_type": "code",
        "colab": {
          "base_uri": "https://localhost:8080/",
          "height": 952
        },
        "outputId": "3b16465c-7a5d-49cf-d217-6902f8d391de"
      },
      "source": [
        "TAKE_ِAND_CHECK_INPUT()\n",
        "for turn in (turnes) :\n",
        "  if x>=9 :\n",
        "    break\n",
        "  CHECK_POSITION()     \n",
        "\n",
        "  border[r][c]=(b)\n",
        "  x +=1\n",
        "  if b=='X' :\n",
        "    b='O'\n",
        "  else:\n",
        "    b='X'\n",
        "  print(border)\n",
        "  check_winers()"
      ],
      "execution_count": 40,
      "outputs": [
        {
          "output_type": "stream",
          "text": [
            "X OR O \n",
            "x\n",
            "player 1 input your row from 1 to 3 \n",
            "1\n",
            "player 1 input your ccolumn from 1 to 3 \n",
            "1\n",
            "[['X' None None]\n",
            " [None None None]\n",
            " [None None None]]\n",
            "player 2 input your row from 1 to 3 \n",
            "1\n",
            "player 2 input your ccolumn from 1 to 3 \n",
            "2\n",
            "[['X' 'O' None]\n",
            " [None None None]\n",
            " [None None None]]\n",
            "player 1 input your row from 1 to 3 \n",
            "1\n",
            "player 1 input your ccolumn from 1 to 3 \n",
            "3\n",
            "[['X' 'O' 'X']\n",
            " [None None None]\n",
            " [None None None]]\n",
            "player 2 input your row from 1 to 3 \n",
            "2\n",
            "player 2 input your ccolumn from 1 to 3 \n",
            "1\n",
            "[['X' 'O' 'X']\n",
            " ['O' None None]\n",
            " [None None None]]\n",
            "player 1 input your row from 1 to 3 \n",
            "22\n",
            "player 1 input your the index of row is not in from 1 to 3\n",
            "player 1 input your row from 1 to 3 \n",
            "2\n",
            "player 1 input your ccolumn from 1 to 3 \n",
            "2\n",
            "[['X' 'O' 'X']\n",
            " ['O' 'X' None]\n",
            " [None None None]]\n",
            "player 2 input your row from 1 to 3 \n",
            "2\n",
            "player 2 input your ccolumn from 1 to 3 \n",
            "3\n",
            "[['X' 'O' 'X']\n",
            " ['O' 'X' 'O']\n",
            " [None None None]]\n",
            "player 1 input your row from 1 to 3 \n",
            "3\n",
            "player 1 input your ccolumn from 1 to 3 \n",
            "1\n",
            "[['X' 'O' 'X']\n",
            " ['O' 'X' 'O']\n",
            " ['X' None None]]\n",
            "you are winner\n"
          ],
          "name": "stdout"
        }
      ]
    }
  ]
}